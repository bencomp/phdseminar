{
 "cells": [
  {
   "cell_type": "markdown",
   "metadata": {},
   "source": [
    "# Lexical Diversity\n",
    "This script calculates the lexical diversity of every document in a corpus\n",
    "\n",
    "## Corpus folder\n",
    "corpus should be set to the folder with the corpus (must be a string)"
   ]
  },
  {
   "cell_type": "code",
   "execution_count": null,
   "metadata": {},
   "outputs": [],
   "source": [
    "corpus = \"corpus\""
   ]
  },
  {
   "cell_type": "markdown",
   "metadata": {},
   "source": [
    "## The code"
   ]
  },
  {
   "cell_type": "code",
   "execution_count": null,
   "metadata": {},
   "outputs": [],
   "source": [
    "import os, re, nltk, collections\n",
    "\n",
    "def clean(text):\n",
    "    text = re.sub(r\"<.+?>\", \"\", text)\n",
    "    text = re.sub(\"\\s+\", \" \", text)\n",
    "    return text\n",
    "    \n",
    "def tokenize(text):\n",
    "    text = nltk.word_tokenize(text)\n",
    "    text = [word.lower() for word in text if word.isalnum()]\n",
    "    return text\n",
    "\n",
    "def lexdiv(text):\n",
    "    unique = set(text)\n",
    "    return len(unique)/len(text)\n",
    "\n",
    "\n",
    "texts = []\n",
    "labels = []\n",
    "\n",
    "for root, dirs, files in os.walk(corpus):\n",
    "    for fname in files:\n",
    "        with open(os.path.join(root, fname), 'r', encoding = 'utf8', errors='ignore') as rf:\n",
    "            texts.append(tokenize(clean(rf.read())))\n",
    "            labels.append(fname)\n",
    "\n",
    "for text, label in zip(texts, labels):\n",
    "    if len(text) > 0:\n",
    "        print(f\"{lexdiv(text)} {label}\")\n",
    "    "
   ]
  },
  {
   "cell_type": "code",
   "execution_count": null,
   "metadata": {},
   "outputs": [],
   "source": []
  }
 ],
 "metadata": {
  "kernelspec": {
   "display_name": "Python 3",
   "language": "python",
   "name": "python3"
  },
  "language_info": {
   "codemirror_mode": {
    "name": "ipython",
    "version": 3
   },
   "file_extension": ".py",
   "mimetype": "text/x-python",
   "name": "python",
   "nbconvert_exporter": "python",
   "pygments_lexer": "ipython3",
   "version": "3.6.5"
  }
 },
 "nbformat": 4,
 "nbformat_minor": 2
}
