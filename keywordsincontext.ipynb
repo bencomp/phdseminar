{
 "cells": [
  {
   "cell_type": "markdown",
   "metadata": {},
   "source": [
    "# Keywords in Context\n",
    "This notebook will load in a collection of documents and give you keywords in context\n",
    "\n",
    "## Set parameters\n",
    "Set the searchterm to the term you want to search for\n",
    "(must be a string)\n",
    "\n",
    "Set the context to show how much surrounding text you want to see\n",
    "(must be an integer)\n",
    "\n",
    "Set the name of the folder with the texts you want to study\n",
    "(must be a string)"
   ]
  },
  {
   "cell_type": "code",
   "execution_count": null,
   "metadata": {},
   "outputs": [],
   "source": [
    "searchterm = \"murder\"\n",
    "context = 30\n",
    "corpus = \"corpus\""
   ]
  },
  {
   "cell_type": "markdown",
   "metadata": {},
   "source": [
    "## Import Libraries\n",
    "Import the libraries needed for the analysis"
   ]
  },
  {
   "cell_type": "code",
   "execution_count": null,
   "metadata": {},
   "outputs": [],
   "source": [
    "import os, re, nltk"
   ]
  },
  {
   "cell_type": "markdown",
   "metadata": {},
   "source": [
    "## The code itself\n",
    "Everything after this runs and creates the keywords in context viewer."
   ]
  },
  {
   "cell_type": "code",
   "execution_count": null,
   "metadata": {},
   "outputs": [],
   "source": [
    "# This function will remove html elements and replace \n",
    "# multiple spaces with a single space\n",
    "def clean(text):\n",
    "    text = re.sub(r\"<.+?>\", \"\", text)\n",
    "    text = re.sub(\"\\s+\", \" \", text)\n",
    "    return text\n",
    "\n",
    "# An empty list to save results in\n",
    "results = []    \n",
    "\n",
    "# Go through each file in the corpus folder\n",
    "for root, dirs, files in os.walk(corpus):\n",
    "    for fname in files:\n",
    "        # Open each file and use as the rf variable\n",
    "        with open(os.path.join(root, fname), 'r', encoding = 'utf8', errors='ignore') as rf:\n",
    "            # read the text, clean it, and save it as \"text\"\n",
    "            text = clean(rf.read())\n",
    "            \n",
    "            # Set index to 0 to keep track of where the search is\n",
    "            index = 0\n",
    "            # Keep searching while there are still results\n",
    "            while text.find(searchterm, index) != -1:\n",
    "                # Find the searchterm\n",
    "                location = text.find(searchterm, index)\n",
    "                # Print the results\n",
    "                result = f\"{text[location-context:location]} {searchterm} {text[location + len(searchterm):location + len(searchterm)+context]} {fname} {location}\"\n",
    "                print(result)\n",
    "                results.append(result)\n",
    "                # Move the index forward\n",
    "                index = location + 1\n",
    "\n",
    "# Save the result to file:\n",
    "with open('results.txt', 'w', encoding='utf8',errors='ignore') as wf:\n",
    "    wf.write(\"\\n\".join(results))"
   ]
  },
  {
   "cell_type": "code",
   "execution_count": null,
   "metadata": {},
   "outputs": [],
   "source": []
  }
 ],
 "metadata": {
  "kernelspec": {
   "display_name": "Python 3",
   "language": "python",
   "name": "python3"
  },
  "language_info": {
   "codemirror_mode": {
    "name": "ipython",
    "version": 3
   },
   "file_extension": ".py",
   "mimetype": "text/x-python",
   "name": "python",
   "nbconvert_exporter": "python",
   "pygments_lexer": "ipython3",
   "version": "3.6.5"
  }
 },
 "nbformat": 4,
 "nbformat_minor": 2
}
