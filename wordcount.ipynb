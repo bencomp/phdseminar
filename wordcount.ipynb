{
 "cells": [
  {
   "cell_type": "markdown",
   "metadata": {},
   "source": [
    "# Word count\n",
    "This notebook will search for a term across all documents in a corpus and count how often in happens\n",
    "\n",
    "## Set variables\n",
    "searchterm should be the term you want to look for (must be a string)\n",
    "\n",
    "corpus should be the folder where your corpus is stored (must be a string)"
   ]
  },
  {
   "cell_type": "code",
   "execution_count": null,
   "metadata": {},
   "outputs": [],
   "source": [
    "searchterm = \"murder\"\n",
    "\n",
    "corpus = \"corpus\""
   ]
  },
  {
   "cell_type": "markdown",
   "metadata": {},
   "source": [
    "## The code\n",
    "The rest of this notebook executes the necessary code."
   ]
  },
  {
   "cell_type": "code",
   "execution_count": null,
   "metadata": {},
   "outputs": [],
   "source": [
    "# import libraries\n",
    "import os, re, nltk\n",
    "\n",
    "# Clean the text\n",
    "def clean(text):\n",
    "    text = re.sub(r\"<.+?>\", \"\", text)\n",
    "    text = re.sub(\"\\s+\", \" \", text)\n",
    "    return text\n",
    "\n",
    "# Tokenize\n",
    "def tokenize(text):\n",
    "    text = nltk.word_tokenize(text)\n",
    "    text = [word.lower() for word in text if word.isalnum()]\n",
    "    return text\n",
    "\n",
    "# Search for the word\n",
    "def countWord(searchterm, text):\n",
    "    return text.count(searchterm)\n",
    "\n",
    "\n",
    "\n",
    "for root, dirs, files in os.walk(corpus):\n",
    "    for fname in files:\n",
    "        with open(os.path.join(root, fname), 'r', encoding = 'utf8', errors='ignore') as rf:\n",
    "            text = tokenize(clean(rf.read()))\n",
    "            result = countWord(searchterm,text)\n",
    "            if result > 0:\n",
    "                print(f\"{searchterm}: {result} ({fname})\")"
   ]
  },
  {
   "cell_type": "code",
   "execution_count": null,
   "metadata": {},
   "outputs": [],
   "source": []
  }
 ],
 "metadata": {
  "kernelspec": {
   "display_name": "Python 3",
   "language": "python",
   "name": "python3"
  },
  "language_info": {
   "codemirror_mode": {
    "name": "ipython",
    "version": 3
   },
   "file_extension": ".py",
   "mimetype": "text/x-python",
   "name": "python",
   "nbconvert_exporter": "python",
   "pygments_lexer": "ipython3",
   "version": "3.6.5"
  }
 },
 "nbformat": 4,
 "nbformat_minor": 2
}
