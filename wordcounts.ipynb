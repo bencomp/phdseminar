{
 "cells": [
  {
   "cell_type": "markdown",
   "metadata": {},
   "source": [
    "# Word counts\n",
    "This notebook will show you the most common words in each document in your corpus. It is not optimized for speed, but it will get you the results.\n",
    "\n",
    "## Set corpus folder name\n",
    "corpus is the name of the folder where you will store your files (must be a string)"
   ]
  },
  {
   "cell_type": "code",
   "execution_count": null,
   "metadata": {},
   "outputs": [],
   "source": [
    "corpus = \"corpus\""
   ]
  },
  {
   "cell_type": "markdown",
   "metadata": {},
   "source": [
    "## The rest of the code"
   ]
  },
  {
   "cell_type": "code",
   "execution_count": null,
   "metadata": {},
   "outputs": [],
   "source": [
    "import os, re, nltk, collections\n",
    "\n",
    "def clean(text):\n",
    "    text = re.sub(r\"<.+?>\", \"\", text)\n",
    "    text = re.sub(\"\\s+\", \" \", text)\n",
    "    return text\n",
    "    \n",
    "def tokenize(text):\n",
    "    text = nltk.word_tokenize(text)\n",
    "    text = [word.lower() for word in text if word.isalnum()]\n",
    "    return text\n",
    "\n",
    "def counts(text):\n",
    "    uniquewords = set(text)\n",
    "    countDict = {}\n",
    "    for word in uniquewords:\n",
    "        countDict[word] = text.count(word)\n",
    "    results = sorted(countDict, key=countDict.get, reverse=True)\n",
    "    counts = [(r, countDict[r]) for r in results]\n",
    "    return counts\n",
    "\n",
    "def removestop(text):\n",
    "    return [word for word in text if word not in nltk.corpus.stopwords.words('english')]\n",
    "\n",
    "texts = []\n",
    "labels = []\n",
    "\n",
    "for root, dirs, files in os.walk(corpus):\n",
    "    for fname in files:\n",
    "        with open(os.path.join(root, fname), 'r', encoding = 'utf8', errors='ignore') as rf:\n",
    "            texts.append(tokenize(clean(rf.read())))\n",
    "            labels.append(fname)\n",
    "\n",
    "for text, label in zip(texts, labels):\n",
    "    text = removestop(text)\n",
    "    frequency = counts(text)\n",
    "    print(frequency[:20])\n",
    "    "
   ]
  },
  {
   "cell_type": "code",
   "execution_count": null,
   "metadata": {},
   "outputs": [],
   "source": []
  }
 ],
 "metadata": {
  "kernelspec": {
   "display_name": "Python 3",
   "language": "python",
   "name": "python3"
  },
  "language_info": {
   "codemirror_mode": {
    "name": "ipython",
    "version": 3
   },
   "file_extension": ".py",
   "mimetype": "text/x-python",
   "name": "python",
   "nbconvert_exporter": "python",
   "pygments_lexer": "ipython3",
   "version": "3.6.5"
  }
 },
 "nbformat": 4,
 "nbformat_minor": 2
}
